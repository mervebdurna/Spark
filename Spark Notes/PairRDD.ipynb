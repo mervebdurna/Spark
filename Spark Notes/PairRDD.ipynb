{
 "cells": [
  {
   "cell_type": "markdown",
   "metadata": {},
   "source": [
    "# PairRDD Transformations "
   ]
  },
  {
   "cell_type": "markdown",
   "metadata": {},
   "source": [
    "* Genelde aggragation islemleri icin kullanilir.\n",
    "* RDD'nin cift(pair) haline getirilmesi icin on hazirlik gerektirebilir. \n",
    "* Bu yapi uzerinde spark daha ozel operasyonlara imkan verir.\n",
    "* Temel veri yapisi tuple dir\n",
    "* ornek operasyonlar : \n",
    "\n",
    "    En cok yorum yapan kim ? \n",
    "    \n",
    "    En fazla puan alan film hangisi ?\n",
    "    \n",
    "    Mesleklere gore ortalama kazanc nedir ? \n",
    "    \n"
   ]
  },
  {
   "cell_type": "markdown",
   "metadata": {},
   "source": [
    "## Tek Bir RDD icin PairRDD Transformations\n",
    "* reduceByKey() \n",
    "* groupByKey()\n",
    "* combineByKey()\n",
    "* mapValues()\n",
    "* keys()\n",
    "* values()\n",
    "* sortByKey()"
   ]
  },
  {
   "cell_type": "code",
   "execution_count": 3,
   "metadata": {},
   "outputs": [],
   "source": [
    "import findspark \n",
    "findspark.init()\n",
    "from pyspark import SparkContext, SparkConf"
   ]
  },
  {
   "cell_type": "code",
   "execution_count": 4,
   "metadata": {},
   "outputs": [],
   "source": [
    "spark_conf = SparkConf().\\\n",
    "setMaster('local[2]').\\\n",
    "setAppName(\"Test\").\\\n",
    "set(\"spark.driver.mermory\",\"2g\").\\\n",
    "setExecutorEnv(\"spark.executer.memory\",\"3g\")\n",
    "\n",
    "sc = SparkContext(conf=spark_conf)"
   ]
  },
  {
   "cell_type": "code",
   "execution_count": 17,
   "metadata": {},
   "outputs": [
    {
     "data": {
      "text/plain": [
       "[(3, 5), (3, 4), (2, 1), (2, 6), (4, 7)]"
      ]
     },
     "execution_count": 17,
     "metadata": {},
     "output_type": "execute_result"
    }
   ],
   "source": [
    "rdd = sc.parallelize([(3,5),(3,4),(2,1),(2,6),(4,7)])\n",
    "rdd.collect()"
   ]
  },
  {
   "cell_type": "code",
   "execution_count": 16,
   "metadata": {},
   "outputs": [
    {
     "data": {
      "text/plain": [
       "[(2, 6), (4, 7), (3, 20)]"
      ]
     },
     "execution_count": 16,
     "metadata": {},
     "output_type": "execute_result"
    }
   ],
   "source": [
    "# reduceByKey()\n",
    "rdd.reduceByKey(lambda x,y : x*y).collect()"
   ]
  },
  {
   "cell_type": "code",
   "execution_count": 11,
   "metadata": {},
   "outputs": [
    {
     "data": {
      "text/plain": [
       "[(2, '16'), (4, 7), (3, '54')]"
      ]
     },
     "execution_count": 11,
     "metadata": {},
     "output_type": "execute_result"
    }
   ],
   "source": [
    "rdd.reduceByKey(lambda x,y : str(x)+str(y)).collect()"
   ]
  },
  {
   "cell_type": "code",
   "execution_count": 19,
   "metadata": {},
   "outputs": [
    {
     "data": {
      "text/plain": [
       "PythonRDD[52] at RDD at PythonRDD.scala:53"
      ]
     },
     "execution_count": 19,
     "metadata": {},
     "output_type": "execute_result"
    }
   ],
   "source": [
    "#groupByKey\n",
    "rdd.groupByKey()"
   ]
  },
  {
   "cell_type": "code",
   "execution_count": null,
   "metadata": {},
   "outputs": [],
   "source": []
  }
 ],
 "metadata": {
  "kernelspec": {
   "display_name": "Python 3",
   "language": "python",
   "name": "python3"
  },
  "language_info": {
   "codemirror_mode": {
    "name": "ipython",
    "version": 3
   },
   "file_extension": ".py",
   "mimetype": "text/x-python",
   "name": "python",
   "nbconvert_exporter": "python",
   "pygments_lexer": "ipython3",
   "version": "3.7.6"
  }
 },
 "nbformat": 4,
 "nbformat_minor": 4
}
