{
 "cells": [
  {
   "cell_type": "code",
   "execution_count": 2,
   "metadata": {},
   "outputs": [],
   "source": [
    "import findspark\n",
    "findspark.init()\n",
    "\n",
    "from pyspark.sql import SparkSession \n",
    "from pyspark.conf import SparkConf\n",
    "from pyspark import SparkContext\n"
   ]
  },
  {
   "cell_type": "code",
   "execution_count": 3,
   "metadata": {},
   "outputs": [],
   "source": [
    "pyspark = SparkSession.builder \\\n",
    ".master('local[4]') \\\n",
    ".appName(\"Creating-RDD\") \\\n",
    ".config(\"spark.executor.memory\", \"4g\") \\\n",
    ".config(\"spark.driver.memory\",\"2g\") \\\n",
    ".getOrCreate()"
   ]
  },
  {
   "cell_type": "code",
   "execution_count": 4,
   "metadata": {},
   "outputs": [],
   "source": [
    "sc = pyspark.sparkContext"
   ]
  },
  {
   "cell_type": "markdown",
   "metadata": {},
   "source": [
    "# TEK RDD UZERINDE BASIC TRANSFORMATIONS\n",
    "\n",
    "\n",
    "* map()\n",
    "* filter()\n",
    "* flatMap()\n",
    "* distinct()\n"
   ]
  },
  {
   "cell_type": "markdown",
   "metadata": {},
   "source": [
    "### map()\n",
    "\n",
    "Her bir elemente bir fonksiyon uygular ve sonucunda yeni bbir RDD dondurur.\n",
    "\n",
    "[1,2,3,4,5].map(lambda x : x*x) --> [1,4,9,16,25]\n"
   ]
  },
  {
   "cell_type": "markdown",
   "metadata": {},
   "source": [
    "### filter()\n",
    "\n",
    "Her bir elementi bir filtreden gecirir boolean degerlerden olusan yeni bir rdd dondurur.\n",
    "\n",
    "[1,2,3,4,5].filter(lambda x : x >3) ---> [False,False,False,True,True] --> [4,5] \n",
    "! Sadece True olanlari sonuc olarakdondurur."
   ]
  },
  {
   "cell_type": "markdown",
   "metadata": {},
   "source": [
    "### map() & flatMap()"
   ]
  },
  {
   "cell_type": "markdown",
   "metadata": {},
   "source": [
    "* map() sati bazinda islem yapar flatMap ise her ir satirinin her elemanina ayri ayri islem yapar. \n",
    "\n",
    "* map() --> 1'e 1 iliski varsa\n",
    "* flatmap --> 1'den fazl iliski varsa word_count gibi "
   ]
  },
  {
   "cell_type": "code",
   "execution_count": 5,
   "metadata": {},
   "outputs": [],
   "source": [
    "RDD = sc.parallelize( [('Emel eve gel') ,('Ali ata bak'),('Ahmet okula git')])"
   ]
  },
  {
   "cell_type": "code",
   "execution_count": 6,
   "metadata": {},
   "outputs": [
    {
     "data": {
      "text/plain": [
       "['Emel eve gel', 'Ali ata bak']"
      ]
     },
     "execution_count": 6,
     "metadata": {},
     "output_type": "execute_result"
    }
   ],
   "source": [
    "RDD.take(2)"
   ]
  },
  {
   "cell_type": "code",
   "execution_count": 7,
   "metadata": {},
   "outputs": [
    {
     "data": {
      "text/plain": [
       "['EMEL EVE GEL', 'ALI ATA BAK', 'AHMET OKULA GIT']"
      ]
     },
     "execution_count": 7,
     "metadata": {},
     "output_type": "execute_result"
    }
   ],
   "source": [
    "RDD_map_output = RDD.map(lambda x : x.upper())\n",
    "RDD_map_output.take(5)"
   ]
  },
  {
   "cell_type": "code",
   "execution_count": 8,
   "metadata": {},
   "outputs": [
    {
     "data": {
      "text/plain": [
       "['Emel', 'eve', 'gel', 'Ali', 'ata', 'bak', 'Ahmet']"
      ]
     },
     "execution_count": 8,
     "metadata": {},
     "output_type": "execute_result"
    }
   ],
   "source": [
    "RDD_flatMap_output = RDD.flatMap(lambda x : x.split(' '))\n",
    "RDD_flatMap_output.take(7)"
   ]
  },
  {
   "cell_type": "code",
   "execution_count": 9,
   "metadata": {},
   "outputs": [
    {
     "data": {
      "text/plain": [
       "['Emel', 'eve']"
      ]
     },
     "execution_count": 9,
     "metadata": {},
     "output_type": "execute_result"
    }
   ],
   "source": [
    "RDD_flatMap_output.map(lambda x:x.upper())\n",
    "RDD_flatMap_output.take(2)"
   ]
  },
  {
   "cell_type": "markdown",
   "metadata": {},
   "source": [
    "Not : flatMap kelime kelime islem yapiyor. map satir satir islem yapiyor."
   ]
  },
  {
   "cell_type": "markdown",
   "metadata": {},
   "source": [
    "### distinct()\n",
    "\n",
    "Tekrar eden elemanlari cikartiyor.\n",
    "\n",
    "Pandas taki unique() "
   ]
  },
  {
   "cell_type": "code",
   "execution_count": 12,
   "metadata": {},
   "outputs": [],
   "source": [
    "RDD2 = sc.parallelize(['kahve','cay','kahve','seker','sut','sut'])"
   ]
  },
  {
   "cell_type": "code",
   "execution_count": 13,
   "metadata": {},
   "outputs": [
    {
     "data": {
      "text/plain": [
       "['kahve', 'cay', 'kahve']"
      ]
     },
     "execution_count": 13,
     "metadata": {},
     "output_type": "execute_result"
    }
   ],
   "source": [
    "RDD2.take(3)"
   ]
  },
  {
   "cell_type": "code",
   "execution_count": 14,
   "metadata": {},
   "outputs": [],
   "source": [
    "RDD2_distinct_output = RDD2.distinct()"
   ]
  },
  {
   "cell_type": "code",
   "execution_count": 15,
   "metadata": {},
   "outputs": [
    {
     "data": {
      "text/plain": [
       "['kahve', 'cay', 'seker']"
      ]
     },
     "execution_count": 15,
     "metadata": {},
     "output_type": "execute_result"
    }
   ],
   "source": [
    "RDD2_distinct_output.take(3)"
   ]
  },
  {
   "cell_type": "markdown",
   "metadata": {},
   "source": [
    "# IKI RDD BASIC TRANSFORMATIONS \n",
    "\n",
    "* union()\n",
    "* intersection()\n",
    "* subtract()\n",
    "* cartesian()\n",
    "\n",
    "Kumer operasyonlari\n"
   ]
  },
  {
   "cell_type": "markdown",
   "metadata": {},
   "source": [
    "### union() -- birlestirme\n",
    "\n",
    "rdd1.union(rdd2) --> iki rdd'yi oldugu gibi birlestirir. Tekrarli degerler olabilir."
   ]
  },
  {
   "cell_type": "markdown",
   "metadata": {},
   "source": [
    "### intersection() -- kesisim\n",
    "\n",
    "rdd1.intersection(rdd2) --> iki rdd nin kesisimkumesini doner."
   ]
  },
  {
   "cell_type": "markdown",
   "metadata": {},
   "source": [
    "### subtract() -- fark\n",
    "\n",
    "rdd1.subtract(rdd2) --> sadce rdd1 de bulunan elemanlari doner. "
   ]
  },
  {
   "cell_type": "markdown",
   "metadata": {},
   "source": [
    "### cartesian()\n",
    "rdd1 ve rdd2 elemanlarinin tum ikili kombinasyonlarini dondurur.\n"
   ]
  },
  {
   "cell_type": "markdown",
   "metadata": {},
   "source": [
    "# TEK RDD UZERINDE BASIC ACTIONS\n",
    "\n",
    "* collect() --> tum elemanlari driver bilgisayara dondurur array olarak buyuk verilerde riskli \n",
    "\n",
    "* count() --> eleman sayisini dondurur. pandas taki len()\n",
    "\n",
    "* countByValue() -->her bir elemanin rdd de kac kez gectigi bilgisini tupple olarak doner. (value_counts())\n",
    "\n",
    "* take() -->rdd den istenen kadar degeri getirir. take(3)  (pandas taki head())\n",
    "\n",
    "* top() --> top(3) en ustteki 3 elemani getirir.\n",
    "\n",
    "* takeOrdered() --> elemanlari siralayarak belirtilen miktardaki lemani bir array olarak doner\n",
    "\n",
    "* takeSample() --> elemanlardan bir orneklem aliyor 3 parametresi var\n",
    "        * withReplacement :Boolean -->false dersek sectigi elemani bir daha secemez\n",
    "        * num : Int --> kac eleman alacagini belirtir.\n",
    "        * seed : Long --> random_state gibi\n",
    "* reduce() --> rdd.reduce(lambda x,y --> x+y) \n",
    "iki degisken alir\n",
    "\n",
    "* fold() --> reduce ile ayni islemi yapar sadece farkli olarak 0 degeri vardir.\n",
    "\n",
    "* aggregate() --> rdd.aggregate(0)(seqOp,combOp)\n",
    "\n",
    "* foreach() --> \n"
   ]
  },
  {
   "cell_type": "code",
   "execution_count": 21,
   "metadata": {},
   "outputs": [],
   "source": [
    "# sc.parallelize(['Ali',2,4,6,3,45,6,8,9,45,3,3,5,65,4,6])\n",
    "RDD_numbers = sc.parallelize([2,4,6,3,45,6,8,9,45,3,3,5,65,4,6])"
   ]
  },
  {
   "cell_type": "code",
   "execution_count": 22,
   "metadata": {},
   "outputs": [
    {
     "data": {
      "text/plain": [
       "[2, 4, 6, 3, 45, 6, 8, 9, 45, 3, 3, 5, 65, 4, 6]"
      ]
     },
     "execution_count": 22,
     "metadata": {},
     "output_type": "execute_result"
    }
   ],
   "source": [
    "RDD_numbers.collect()"
   ]
  },
  {
   "cell_type": "code",
   "execution_count": 23,
   "metadata": {},
   "outputs": [
    {
     "data": {
      "text/plain": [
       "[65, 45, 45]"
      ]
     },
     "execution_count": 23,
     "metadata": {},
     "output_type": "execute_result"
    }
   ],
   "source": [
    "RDD_numbers.top(3)"
   ]
  },
  {
   "cell_type": "code",
   "execution_count": 24,
   "metadata": {},
   "outputs": [],
   "source": [
    "RDD_names = sc.parallelize(['Ali','Beyza','Yeliz','Filiz','Cemre','Mina'])"
   ]
  },
  {
   "cell_type": "code",
   "execution_count": 25,
   "metadata": {},
   "outputs": [
    {
     "data": {
      "text/plain": [
       "['Yeliz', 'Mina', 'Filiz']"
      ]
     },
     "execution_count": 25,
     "metadata": {},
     "output_type": "execute_result"
    }
   ],
   "source": [
    "RDD_names.top(3)"
   ]
  },
  {
   "cell_type": "markdown",
   "metadata": {},
   "source": [
    "Not : top siralanmis bir rdd uzerinden ilk 3 degeri dondurur ama string ve int degerirler var ise hata verir\n",
    "\n",
    "Not : Alfabetik siraya gore tersten baslayarak dondurur yani once z sona y vs seklind"
   ]
  },
  {
   "cell_type": "markdown",
   "metadata": {},
   "source": [
    "RDD_names.takeSample(False,3,42)"
   ]
  },
  {
   "cell_type": "code",
   "execution_count": 27,
   "metadata": {},
   "outputs": [
    {
     "data": {
      "text/plain": [
       "['Filiz', 'Mina', 'Filiz']"
      ]
     },
     "execution_count": 27,
     "metadata": {},
     "output_type": "execute_result"
    }
   ],
   "source": [
    "RDD_names.takeSample(True,3,42) # True yapinca getirdigi elemani tekrar tekrar secebiliyor."
   ]
  },
  {
   "cell_type": "code",
   "execution_count": 30,
   "metadata": {},
   "outputs": [
    {
     "data": {
      "text/plain": [
       "['Ali', 'Beyza', 'Cemre', 'Filiz', 'Mina']"
      ]
     },
     "execution_count": 30,
     "metadata": {},
     "output_type": "execute_result"
    }
   ],
   "source": [
    "RDD_names.takeOrdered(5)"
   ]
  },
  {
   "cell_type": "code",
   "execution_count": null,
   "metadata": {},
   "outputs": [],
   "source": [
    "RDD_numbers = sc.parallelize([2,4,6,3,45,6,8,9,45,3,3,5,65,4,6])\n",
    "RDD_reduce_numbers =RDD_numbers.reduce(lambda x,y : x+y) \n",
    "RDD_reduce_numbers"
   ]
  },
  {
   "cell_type": "code",
   "execution_count": 40,
   "metadata": {},
   "outputs": [
    {
     "data": {
      "text/plain": [
       "229"
      ]
     },
     "execution_count": 40,
     "metadata": {},
     "output_type": "execute_result"
    }
   ],
   "source": [
    "RDD_numbers.fold(3, lambda x,y : x+y) # ????????? burada ki 0 degerini 1 ,2 ,3 yapinca degisen ne oluyor "
   ]
  },
  {
   "cell_type": "code",
   "execution_count": 33,
   "metadata": {},
   "outputs": [
    {
     "data": {
      "text/plain": [
       "214"
      ]
     },
     "execution_count": 33,
     "metadata": {},
     "output_type": "execute_result"
    }
   ],
   "source": [
    "RDD_numbers.sum()"
   ]
  },
  {
   "cell_type": "code",
   "execution_count": 38,
   "metadata": {},
   "outputs": [
    {
     "data": {
      "text/plain": [
       "(214, 15)"
      ]
     },
     "execution_count": 38,
     "metadata": {},
     "output_type": "execute_result"
    }
   ],
   "source": [
    "RDD_numbers.aggregate( (0,0), (lambda acc,value :(acc[0]+value,acc[1]+1)),(lambda acc1, acc2: (acc1[0]+acc2[0], acc1[1]+acc2[1])))"
   ]
  },
  {
   "cell_type": "code",
   "execution_count": 39,
   "metadata": {},
   "outputs": [
    {
     "data": {
      "text/plain": [
       "(214, 15)"
      ]
     },
     "execution_count": 39,
     "metadata": {},
     "output_type": "execute_result"
    }
   ],
   "source": [
    "RDD_numbers.aggregate( (0,0), (lambda x,y :(x[0]+y,x[1]+1)),(lambda x, y: (x[0]+y[0], x[1]+y[1])))"
   ]
  },
  {
   "cell_type": "code",
   "execution_count": 3,
   "metadata": {},
   "outputs": [
    {
     "ename": "SyntaxError",
     "evalue": "invalid syntax (<ipython-input-3-ee6803b89ac3>, line 1)",
     "output_type": "error",
     "traceback": [
      "\u001b[1;36m  File \u001b[1;32m\"<ipython-input-3-ee6803b89ac3>\"\u001b[1;36m, line \u001b[1;32m1\u001b[0m\n\u001b[1;33m    aggreagte  ???? acumulator ??????????\u001b[0m\n\u001b[1;37m               ^\u001b[0m\n\u001b[1;31mSyntaxError\u001b[0m\u001b[1;31m:\u001b[0m invalid syntax\n"
     ]
    }
   ],
   "source": [
    "aggreagte  ???? acumulator ??????????"
   ]
  },
  {
   "cell_type": "markdown",
   "metadata": {},
   "source": [
    "QUESTION &  ANSWERS"
   ]
  },
  {
   "cell_type": "markdown",
   "metadata": {},
   "source": [
    "## Question 1"
   ]
  },
  {
   "cell_type": "code",
   "execution_count": 4,
   "metadata": {},
   "outputs": [],
   "source": [
    "import findspark \n",
    "findspark.init()\n",
    "from pyspark import SparkContext, SparkConf"
   ]
  },
  {
   "cell_type": "code",
   "execution_count": 7,
   "metadata": {},
   "outputs": [],
   "source": [
    "spark_conf = SparkConf().\\\n",
    "setMaster('local[2]').\\\n",
    "setAppName(\"Test\").\\\n",
    "set(\"spark.driver.mermory\",\"2g\").\\\n",
    "setExecutorEnv(\"spark.executer.memory\",\"3g\")\n",
    "\n",
    "sc = SparkContext(conf=spark_conf)"
   ]
  },
  {
   "cell_type": "code",
   "execution_count": 8,
   "metadata": {},
   "outputs": [
    {
     "name": "stdout",
     "output_type": "stream",
     "text": [
      "Hello Spark\n"
     ]
    }
   ],
   "source": [
    "print('Hello Spark')"
   ]
  },
  {
   "cell_type": "markdown",
   "metadata": {},
   "source": [
    "## Question 2 "
   ]
  },
  {
   "cell_type": "code",
   "execution_count": 9,
   "metadata": {},
   "outputs": [],
   "source": [
    "rdd = sc.parallelize([3,4,5,76,3,54,6,8,4,3,6,8,9,97])"
   ]
  },
  {
   "cell_type": "code",
   "execution_count": 10,
   "metadata": {},
   "outputs": [
    {
     "data": {
      "text/plain": [
       "[3, 4, 5, 76, 3, 54, 6, 8, 4, 3, 6, 8, 9, 97]"
      ]
     },
     "execution_count": 10,
     "metadata": {},
     "output_type": "execute_result"
    }
   ],
   "source": [
    "rdd.collect()"
   ]
  },
  {
   "cell_type": "markdown",
   "metadata": {},
   "source": [
    "### Question 3"
   ]
  },
  {
   "cell_type": "code",
   "execution_count": 18,
   "metadata": {},
   "outputs": [],
   "source": [
    "text_rdd = sc.parallelize([\"Learning spark is so exciting.\"])"
   ]
  },
  {
   "cell_type": "code",
   "execution_count": 19,
   "metadata": {},
   "outputs": [
    {
     "data": {
      "text/plain": [
       "['LEARNING SPARK IS SO EXCITING.']"
      ]
     },
     "execution_count": 19,
     "metadata": {},
     "output_type": "execute_result"
    }
   ],
   "source": [
    "text_rdd.map(lambda x : x.upper()).collect()"
   ]
  },
  {
   "cell_type": "markdown",
   "metadata": {},
   "source": [
    "### Question 4"
   ]
  },
  {
   "cell_type": "code",
   "execution_count": 21,
   "metadata": {},
   "outputs": [
    {
     "data": {
      "text/plain": [
       "1"
      ]
     },
     "execution_count": 21,
     "metadata": {},
     "output_type": "execute_result"
    }
   ],
   "source": [
    "## line counts\n",
    "text_rdd.count()"
   ]
  },
  {
   "cell_type": "markdown",
   "metadata": {},
   "source": [
    "### Question 5  - 6- 7"
   ]
  },
  {
   "cell_type": "code",
   "execution_count": 23,
   "metadata": {},
   "outputs": [
    {
     "data": {
      "text/plain": [
       "5"
      ]
     },
     "execution_count": 23,
     "metadata": {},
     "output_type": "execute_result"
    }
   ],
   "source": [
    "## Word counts\n",
    "text_rdd.flatMap(lambda x : x.split(\" \")).count()"
   ]
  },
  {
   "cell_type": "code",
   "execution_count": 24,
   "metadata": {},
   "outputs": [],
   "source": [
    "rdd_2 = sc.parallelize([1,2,3,4, 3, 54, 6, 8, 4,])"
   ]
  },
  {
   "cell_type": "code",
   "execution_count": 26,
   "metadata": {},
   "outputs": [
    {
     "data": {
      "text/plain": [
       "[3, 4, 5, 76, 3, 54, 6, 8, 4, 3, 6, 8, 9, 97, 1, 2, 3, 4, 3, 54, 6, 8, 4]"
      ]
     },
     "execution_count": 26,
     "metadata": {},
     "output_type": "execute_result"
    }
   ],
   "source": [
    "#set union\n",
    "\n",
    "rdd.union(rdd_2).collect()"
   ]
  },
  {
   "cell_type": "code",
   "execution_count": 30,
   "metadata": {},
   "outputs": [
    {
     "data": {
      "text/plain": [
       "[4, 8, 54, 6, 3]"
      ]
     },
     "execution_count": 30,
     "metadata": {},
     "output_type": "execute_result"
    }
   ],
   "source": [
    "## set intersection\n",
    "rdd.intersection(rdd_2).collect()"
   ]
  },
  {
   "cell_type": "code",
   "execution_count": 39,
   "metadata": {},
   "outputs": [
    {
     "data": {
      "text/plain": [
       "[2, 4, 54, 6, 8, 1, 3]"
      ]
     },
     "execution_count": 39,
     "metadata": {},
     "output_type": "execute_result"
    }
   ],
   "source": [
    "rdd_2_unique = rdd_2.distinct()\n",
    "rdd_2_unique.collect()"
   ]
  },
  {
   "cell_type": "code",
   "execution_count": 38,
   "metadata": {},
   "outputs": [
    {
     "data": {
      "text/plain": [
       "{2, 3, 4, 5, 6, 7, 8}"
      ]
     },
     "execution_count": 38,
     "metadata": {},
     "output_type": "execute_result"
    }
   ],
   "source": [
    "# or \n",
    "numbers = [2,3,4,3,4,5,6,7,8,4,5,6,7,6,6]\n",
    "rdd_3_set = set(numbers)\n",
    "rdd_3_set"
   ]
  },
  {
   "cell_type": "markdown",
   "metadata": {},
   "source": [
    "### Question 8"
   ]
  },
  {
   "cell_type": "code",
   "execution_count": 42,
   "metadata": {},
   "outputs": [
    {
     "data": {
      "text/plain": [
       "[(1, 1), (2, 1), (3, 1), (4, 1), (3, 1), (54, 1), (6, 1), (8, 1), (4, 1)]"
      ]
     },
     "execution_count": 42,
     "metadata": {},
     "output_type": "execute_result"
    }
   ],
   "source": [
    "rdd_2.map(lambda x : (x,1)).collect().reduceByKey()"
   ]
  },
  {
   "cell_type": "code",
   "execution_count": 44,
   "metadata": {},
   "outputs": [
    {
     "data": {
      "text/plain": [
       "[(2, 1), (4, 2), (54, 1), (6, 1), (8, 1), (1, 1), (3, 2)]"
      ]
     },
     "execution_count": 44,
     "metadata": {},
     "output_type": "execute_result"
    }
   ],
   "source": [
    "rdd_2.map(lambda x : (x,1)).reduceByKey(lambda x,y : x+y).collect()"
   ]
  },
  {
   "cell_type": "code",
   "execution_count": null,
   "metadata": {},
   "outputs": [],
   "source": []
  }
 ],
 "metadata": {
  "kernelspec": {
   "display_name": "Python 3",
   "language": "python",
   "name": "python3"
  },
  "language_info": {
   "codemirror_mode": {
    "name": "ipython",
    "version": 3
   },
   "file_extension": ".py",
   "mimetype": "text/x-python",
   "name": "python",
   "nbconvert_exporter": "python",
   "pygments_lexer": "ipython3",
   "version": "3.7.6"
  }
 },
 "nbformat": 4,
 "nbformat_minor": 4
}
